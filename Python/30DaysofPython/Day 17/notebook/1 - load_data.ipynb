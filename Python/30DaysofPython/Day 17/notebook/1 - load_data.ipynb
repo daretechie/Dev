{
 "cells": [
  {
   "cell_type": "code",
   "execution_count": 7,
   "id": "5fc4c7eb",
   "metadata": {},
   "outputs": [],
   "source": [
    "import os\n",
    "import pandas as pd"
   ]
  },
  {
   "cell_type": "code",
   "execution_count": 8,
   "id": "807e5419",
   "metadata": {},
   "outputs": [
    {
     "data": {
      "text/plain": [
       "['2000.csv',\n",
       " '2001.csv',\n",
       " '2002.csv',\n",
       " '2003.csv',\n",
       " '2004.csv',\n",
       " '2005.csv',\n",
       " '2010.csv',\n",
       " '2011.csv',\n",
       " '2012.csv',\n",
       " '2013.csv',\n",
       " '2014.csv',\n",
       " '2015.csv',\n",
       " '2016.csv',\n",
       " '2017.csv',\n",
       " '2018.csv',\n",
       " '2019.csv',\n",
       " '2020.csv']"
      ]
     },
     "execution_count": 8,
     "metadata": {},
     "output_type": "execute_result"
    }
   ],
   "source": [
    "cwd = os.getcwd() # Equivalent to dirname(abspath(__file__))\n",
    "\n",
    "BASE_DIR = os.path.dirname(cwd)\n",
    "DATA_DIR = os.path.join(BASE_DIR, 'data')\n",
    "\n",
    "# confirm the data dir\n",
    "os.listdir(DATA_DIR)"
   ]
  },
  {
   "cell_type": "code",
   "execution_count": 9,
   "id": "902b25f6",
   "metadata": {},
   "outputs": [
    {
     "name": "stdout",
     "output_type": "stream",
     "text": [
      "True\n"
     ]
    }
   ],
   "source": [
    "my_data = os.path.join(DATA_DIR, '2002.csv')\n",
    "print(os.path.exists(my_data))"
   ]
  },
  {
   "cell_type": "markdown",
   "id": "d415f11c",
   "metadata": {},
   "source": [
    "### Load one of the dataset"
   ]
  },
  {
   "cell_type": "code",
   "execution_count": 10,
   "id": "350cd445",
   "metadata": {},
   "outputs": [
    {
     "data": {
      "text/html": [
       "<div>\n",
       "<style scoped>\n",
       "    .dataframe tbody tr th:only-of-type {\n",
       "        vertical-align: middle;\n",
       "    }\n",
       "\n",
       "    .dataframe tbody tr th {\n",
       "        vertical-align: top;\n",
       "    }\n",
       "\n",
       "    .dataframe thead th {\n",
       "        text-align: right;\n",
       "    }\n",
       "</style>\n",
       "<table border=\"1\" class=\"dataframe\">\n",
       "  <thead>\n",
       "    <tr style=\"text-align: right;\">\n",
       "      <th></th>\n",
       "      <th>Rank</th>\n",
       "      <th>Release Group</th>\n",
       "      <th>Worldwide</th>\n",
       "      <th>Domestic</th>\n",
       "      <th>%</th>\n",
       "      <th>Foreign</th>\n",
       "      <th>%.1</th>\n",
       "    </tr>\n",
       "  </thead>\n",
       "  <tbody>\n",
       "    <tr>\n",
       "      <th>0</th>\n",
       "      <td>1</td>\n",
       "      <td>The Lord of the Rings: The Two Towers</td>\n",
       "      <td>$936,689,735</td>\n",
       "      <td>$339,789,881</td>\n",
       "      <td>36.3%</td>\n",
       "      <td>$596,899,854</td>\n",
       "      <td>63.7%</td>\n",
       "    </tr>\n",
       "    <tr>\n",
       "      <th>1</th>\n",
       "      <td>2</td>\n",
       "      <td>Harry Potter and the Chamber of Secrets</td>\n",
       "      <td>$878,979,634</td>\n",
       "      <td>$261,988,482</td>\n",
       "      <td>29.8%</td>\n",
       "      <td>$616,991,152</td>\n",
       "      <td>70.2%</td>\n",
       "    </tr>\n",
       "    <tr>\n",
       "      <th>2</th>\n",
       "      <td>3</td>\n",
       "      <td>Spider-Man</td>\n",
       "      <td>$821,708,551</td>\n",
       "      <td>$403,706,375</td>\n",
       "      <td>49.1%</td>\n",
       "      <td>$418,002,176</td>\n",
       "      <td>50.9%</td>\n",
       "    </tr>\n",
       "    <tr>\n",
       "      <th>3</th>\n",
       "      <td>4</td>\n",
       "      <td>Star Wars: Episode II - Attack of the Clones</td>\n",
       "      <td>$645,256,452</td>\n",
       "      <td>$302,191,252</td>\n",
       "      <td>46.8%</td>\n",
       "      <td>$343,065,200</td>\n",
       "      <td>53.2%</td>\n",
       "    </tr>\n",
       "    <tr>\n",
       "      <th>4</th>\n",
       "      <td>5</td>\n",
       "      <td>Men in Black II</td>\n",
       "      <td>$441,818,803</td>\n",
       "      <td>$190,418,803</td>\n",
       "      <td>43.1%</td>\n",
       "      <td>$251,400,000</td>\n",
       "      <td>56.9%</td>\n",
       "    </tr>\n",
       "  </tbody>\n",
       "</table>\n",
       "</div>"
      ],
      "text/plain": [
       "   Rank                                 Release Group     Worldwide  \\\n",
       "0     1         The Lord of the Rings: The Two Towers  $936,689,735   \n",
       "1     2       Harry Potter and the Chamber of Secrets  $878,979,634   \n",
       "2     3                                    Spider-Man  $821,708,551   \n",
       "3     4  Star Wars: Episode II - Attack of the Clones  $645,256,452   \n",
       "4     5                               Men in Black II  $441,818,803   \n",
       "\n",
       "       Domestic      %       Foreign    %.1  \n",
       "0  $339,789,881  36.3%  $596,899,854  63.7%  \n",
       "1  $261,988,482  29.8%  $616,991,152  70.2%  \n",
       "2  $403,706,375  49.1%  $418,002,176  50.9%  \n",
       "3  $302,191,252  46.8%  $343,065,200  53.2%  \n",
       "4  $190,418,803  43.1%  $251,400,000  56.9%  "
      ]
     },
     "execution_count": 10,
     "metadata": {},
     "output_type": "execute_result"
    }
   ],
   "source": [
    "df = pd.read_csv(my_data)\n",
    "df.head()"
   ]
  },
  {
   "cell_type": "code",
   "execution_count": null,
   "id": "a1719120",
   "metadata": {},
   "outputs": [],
   "source": []
  }
 ],
 "metadata": {
  "interpreter": {
   "hash": "41a41e89a3b42281265d4068b9c0a245d9b88912afed1f9801bb00a7d3252435"
  },
  "kernelspec": {
   "display_name": "Python 3.7.11 64-bit ('base': conda)",
   "name": "python3"
  },
  "language_info": {
   "codemirror_mode": {
    "name": "ipython",
    "version": 3
   },
   "file_extension": ".py",
   "mimetype": "text/x-python",
   "name": "python",
   "nbconvert_exporter": "python",
   "pygments_lexer": "ipython3",
   "version": "3.7.11"
  }
 },
 "nbformat": 4,
 "nbformat_minor": 5
}
