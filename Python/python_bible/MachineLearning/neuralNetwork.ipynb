{
 "cells": [
  {
   "cell_type": "code",
   "execution_count": 1,
   "id": "a8a1192c",
   "metadata": {},
   "outputs": [],
   "source": [
    "import numpy as np\n",
    "\n",
    "import tensorflow as tf\n",
    "import matplotlib.pyplot as plt\n",
    "\n",
    "import cv2 as cv"
   ]
  },
  {
   "cell_type": "code",
   "execution_count": 2,
   "id": "df770f55",
   "metadata": {},
   "outputs": [],
   "source": [
    "mnist = tf.keras.datasets.mnist\n",
    "(X_train, Y_train), (X_test, Y_test) = mnist.load_data()"
   ]
  },
  {
   "cell_type": "code",
   "execution_count": 3,
   "id": "c8194861",
   "metadata": {},
   "outputs": [
    {
     "data": {
      "text/plain": [
       "((60000, 28, 28), (60000,), (10000, 28, 28), (10000,))"
      ]
     },
     "execution_count": 3,
     "metadata": {},
     "output_type": "execute_result"
    }
   ],
   "source": [
    "X_train.shape, Y_train.shape, X_test.shape, Y_test.shape"
   ]
  },
  {
   "cell_type": "code",
   "execution_count": 4,
   "id": "cc64d2d1",
   "metadata": {},
   "outputs": [],
   "source": [
    "# normalize our data to make it easier to handle\n",
    "X_train = tf.keras.utils.normalize(X_train, axis=1)\n",
    "X_test = tf.keras.utils.normalize(X_test, axis=1)"
   ]
  },
  {
   "cell_type": "code",
   "execution_count": 5,
   "id": "2571965b",
   "metadata": {
    "scrolled": true
   },
   "outputs": [
    {
     "data": {
      "text/plain": [
       "array([[[0., 0., 0., ..., 0., 0., 0.],\n",
       "        [0., 0., 0., ..., 0., 0., 0.],\n",
       "        [0., 0., 0., ..., 0., 0., 0.],\n",
       "        ...,\n",
       "        [0., 0., 0., ..., 0., 0., 0.],\n",
       "        [0., 0., 0., ..., 0., 0., 0.],\n",
       "        [0., 0., 0., ..., 0., 0., 0.]],\n",
       "\n",
       "       [[0., 0., 0., ..., 0., 0., 0.],\n",
       "        [0., 0., 0., ..., 0., 0., 0.],\n",
       "        [0., 0., 0., ..., 0., 0., 0.],\n",
       "        ...,\n",
       "        [0., 0., 0., ..., 0., 0., 0.],\n",
       "        [0., 0., 0., ..., 0., 0., 0.],\n",
       "        [0., 0., 0., ..., 0., 0., 0.]],\n",
       "\n",
       "       [[0., 0., 0., ..., 0., 0., 0.],\n",
       "        [0., 0., 0., ..., 0., 0., 0.],\n",
       "        [0., 0., 0., ..., 0., 0., 0.],\n",
       "        ...,\n",
       "        [0., 0., 0., ..., 0., 0., 0.],\n",
       "        [0., 0., 0., ..., 0., 0., 0.],\n",
       "        [0., 0., 0., ..., 0., 0., 0.]],\n",
       "\n",
       "       ...,\n",
       "\n",
       "       [[0., 0., 0., ..., 0., 0., 0.],\n",
       "        [0., 0., 0., ..., 0., 0., 0.],\n",
       "        [0., 0., 0., ..., 0., 0., 0.],\n",
       "        ...,\n",
       "        [0., 0., 0., ..., 0., 0., 0.],\n",
       "        [0., 0., 0., ..., 0., 0., 0.],\n",
       "        [0., 0., 0., ..., 0., 0., 0.]],\n",
       "\n",
       "       [[0., 0., 0., ..., 0., 0., 0.],\n",
       "        [0., 0., 0., ..., 0., 0., 0.],\n",
       "        [0., 0., 0., ..., 0., 0., 0.],\n",
       "        ...,\n",
       "        [0., 0., 0., ..., 0., 0., 0.],\n",
       "        [0., 0., 0., ..., 0., 0., 0.],\n",
       "        [0., 0., 0., ..., 0., 0., 0.]],\n",
       "\n",
       "       [[0., 0., 0., ..., 0., 0., 0.],\n",
       "        [0., 0., 0., ..., 0., 0., 0.],\n",
       "        [0., 0., 0., ..., 0., 0., 0.],\n",
       "        ...,\n",
       "        [0., 0., 0., ..., 0., 0., 0.],\n",
       "        [0., 0., 0., ..., 0., 0., 0.],\n",
       "        [0., 0., 0., ..., 0., 0., 0.]]])"
      ]
     },
     "execution_count": 5,
     "metadata": {},
     "output_type": "execute_result"
    }
   ],
   "source": [
    "X_train"
   ]
  },
  {
   "cell_type": "code",
   "execution_count": 6,
   "id": "ee3d6a48",
   "metadata": {},
   "outputs": [],
   "source": [
    "model = tf.keras.models.Sequential()\n",
    "model.add(tf.keras.layers.Flatten( input_shape =( 28 , 28 )))\n",
    "model.add(tf.keras.layers.Dense( units = 128 , activation = 'relu' ))\n",
    "model.add(tf.keras.layers.Dense( units = 128 , activation = 'relu' ))\n",
    "model.add(tf.keras.layers.Dense( units = 10 , activation =tf.nn.softmax))\n",
    "model.compile( optimizer = 'adam' ,loss = 'sparse_categorical_crossentropy' , metrics =[ 'accuracy' ])"
   ]
  },
  {
   "cell_type": "code",
   "execution_count": 7,
   "id": "571c24a8",
   "metadata": {},
   "outputs": [
    {
     "name": "stdout",
     "output_type": "stream",
     "text": [
      "Model: \"sequential\"\n",
      "_________________________________________________________________\n",
      "Layer (type)                 Output Shape              Param #   \n",
      "=================================================================\n",
      "flatten (Flatten)            (None, 784)               0         \n",
      "_________________________________________________________________\n",
      "dense (Dense)                (None, 128)               100480    \n",
      "_________________________________________________________________\n",
      "dense_1 (Dense)              (None, 128)               16512     \n",
      "_________________________________________________________________\n",
      "dense_2 (Dense)              (None, 10)                1290      \n",
      "=================================================================\n",
      "Total params: 118,282\n",
      "Trainable params: 118,282\n",
      "Non-trainable params: 0\n",
      "_________________________________________________________________\n"
     ]
    }
   ],
   "source": [
    "model.summary()"
   ]
  },
  {
   "cell_type": "code",
   "execution_count": 8,
   "id": "b7cbab4b",
   "metadata": {},
   "outputs": [
    {
     "name": "stdout",
     "output_type": "stream",
     "text": [
      "Train on 60000 samples\n",
      "Epoch 1/3\n",
      "26624/60000 [============>.................] - ETA: 1:00:14 - loss: 2.3254 - accuracy: 0.125 - ETA: 31:05 - loss: 2.3141 - accuracy: 0.1250  - ETA: 5:46 - loss: 2.2047 - accuracy: 0.352 - ETA: 2:18 - loss: 1.9444 - accuracy: 0.49 - ETA: 1:23 - loss: 1.6051 - accuracy: 0.59 - ETA: 1:05 - loss: 1.4079 - accuracy: 0.63 - ETA: 51s - loss: 1.2188 - accuracy: 0.6855 - ETA: 43s - loss: 1.0911 - accuracy: 0.716 - ETA: 37s - loss: 0.9998 - accuracy: 0.738 - ETA: 32s - loss: 0.9209 - accuracy: 0.757 - ETA: 29s - loss: 0.8550 - accuracy: 0.772 - ETA: 26s - loss: 0.8076 - accuracy: 0.783 - ETA: 24s - loss: 0.7771 - accuracy: 0.790 - ETA: 22s - loss: 0.7433 - accuracy: 0.799 - ETA: 20s - loss: 0.7190 - accuracy: 0.805 - ETA: 19s - loss: 0.6934 - accuracy: 0.812 - ETA: 18s - loss: 0.6629 - accuracy: 0.820 - ETA: 17s - loss: 0.6422 - accuracy: 0.825 - ETA: 16s - loss: 0.6203 - accuracy: 0.830 - ETA: 15s - loss: 0.6042 - accuracy: 0.834 - ETA: 14s - loss: 0.5874 - accuracy: 0.838 - ETA: 14s - loss: 0.5753 - accuracy: 0.841 - ETA: 13s - loss: 0.5609 - accuracy: 0.845 - ETA: 13s - loss: 0.5487 - accuracy: 0.848 - ETA: 13s - loss: 0.5421 - accuracy: 0.849 - ETA: 12s - loss: 0.5302 - accuracy: 0.852 - ETA: 12s - loss: 0.5244 - accuracy: 0.854 - ETA: 11s - loss: 0.5158 - accuracy: 0.856 - ETA: 11s - loss: 0.5038 - accuracy: 0.859 - ETA: 11s - loss: 0.4979 - accuracy: 0.861 - ETA: 10s - loss: 0.4904 - accuracy: 0.863 - ETA: 10s - loss: 0.4822 - accuracy: 0.865 - ETA: 10s - loss: 0.4745 - accuracy: 0.867 - ETA: 10s - loss: 0.4661 - accuracy: 0.869 - ETA: 9s - loss: 0.4590 - accuracy: 0.871 - ETA: 9s - loss: 0.4535 - accuracy: 0.87 - ETA: 9s - loss: 0.4476 - accuracy: 0.87 - ETA: 9s - loss: 0.4429 - accuracy: 0.87 - ETA: 8s - loss: 0.4372 - accuracy: 0.87 - ETA: 8s - loss: 0.4315 - accuracy: 0.87 - ETA: 8s - loss: 0.4273 - accuracy: 0.87 - ETA: 8s - loss: 0.4215 - accuracy: 0.88 - ETA: 8s - loss: 0.4164 - accuracy: 0.88 - ETA: 7s - loss: 0.4107 - accuracy: 0.88 - ETA: 7s - loss: 0.4069 - accuracy: 0.88 - ETA: 7s - loss: 0.4024 - accuracy: 0.88 - ETA: 7s - loss: 0.3980 - accuracy: 0.88 - ETA: 7s - loss: 0.3943 - accuracy: 0.88 - ETA: 6s - loss: 0.3911 - accuracy: 0.88 - ETA: 6s - loss: 0.3873 - accuracy: 0.89 - ETA: 6s - loss: 0.3847 - accuracy: 0.89 - ETA: 6s - loss: 0.3816 - accuracy: 0.89 - ETA: 6s - loss: 0.3787 - accuracy: 0.89 - ETA: 6s - loss: 0.3760 - accuracy: 0.89 - ETA: 6s - loss: 0.3732 - accuracy: 0.89 - ETA: 6s - loss: 0.3706 - accuracy: 0.89"
     ]
    },
    {
     "data": {
      "text/html": [
       "<b>limit_output extension: Maximum message size of 10000 exceeded with 10038 characters</b>"
      ]
     },
     "metadata": {},
     "output_type": "display_data"
    }
   ],
   "source": [
    "model.fit(X_train, Y_train, epochs = 3 )"
   ]
  },
  {
   "cell_type": "code",
   "execution_count": null,
   "id": "8340f71c",
   "metadata": {},
   "outputs": [],
   "source": []
  },
  {
   "cell_type": "code",
   "execution_count": 9,
   "id": "1092136b",
   "metadata": {},
   "outputs": [
    {
     "name": "stdout",
     "output_type": "stream",
     "text": [
      "10000/10000 [==============================] - ETA: 31s - loss: 0.0631 - accuracy: 0.968 - ETA: 1s - loss: 0.1013 - accuracy: 0.964 - ETA: 0s - loss: 0.1075 - accuracy: 0.96 - ETA: 0s - loss: 0.1062 - accuracy: 0.96 - ETA: 0s - loss: 0.1075 - accuracy: 0.96 - ETA: 0s - loss: 0.0983 - accuracy: 0.96 - ETA: 0s - loss: 0.0862 - accuracy: 0.97 - ETA: 0s - loss: 0.0798 - accuracy: 0.97 - 1s 52us/sample - loss: 0.0811 - accuracy: 0.9745\n"
     ]
    }
   ],
   "source": [
    "loss, accuracy = model.evaluate(X_test, Y_test)"
   ]
  },
  {
   "cell_type": "code",
   "execution_count": 10,
   "id": "76ef3bbb",
   "metadata": {},
   "outputs": [
    {
     "name": "stdout",
     "output_type": "stream",
     "text": [
      "Loss:  0.08114482965152711\n",
      "Accuracy:  0.9745\n"
     ]
    }
   ],
   "source": [
    "print ( 'Loss: ' , loss)\n",
    "print ( 'Accuracy: ' , accuracy)"
   ]
  },
  {
   "cell_type": "code",
   "execution_count": 11,
   "id": "f30ae1ba",
   "metadata": {},
   "outputs": [
    {
     "name": "stdout",
     "output_type": "stream",
     "text": [
      "WARNING:tensorflow:From C:\\Users\\DHREY\\anaconda3\\lib\\site-packages\\tensorflow_core\\python\\ops\\resource_variable_ops.py:1786: calling BaseResourceVariable.__init__ (from tensorflow.python.ops.resource_variable_ops) with constraint is deprecated and will be removed in a future version.\n",
      "Instructions for updating:\n",
      "If using Keras pass *_constraint arguments to layers.\n",
      "INFO:tensorflow:Assets written to: modeldir\\digits.model\\assets\n"
     ]
    }
   ],
   "source": [
    "model.save(\"modeldir\\digits.model\")\n"
   ]
  },
  {
   "cell_type": "code",
   "execution_count": 12,
   "id": "e5e342ac",
   "metadata": {},
   "outputs": [],
   "source": [
    "\n",
    "model = tf.keras.models.load_model('modeldir\\digits.model')"
   ]
  },
  {
   "cell_type": "code",
   "execution_count": 40,
   "id": "8ff352e9",
   "metadata": {},
   "outputs": [],
   "source": [
    "image = cv.imread(\"image/digit1.png\")[:,:,0]\n",
    "image = np.invert(np.array([image]))\n"
   ]
  },
  {
   "cell_type": "code",
   "execution_count": 41,
   "id": "6813b9ba",
   "metadata": {},
   "outputs": [
    {
     "name": "stdout",
     "output_type": "stream",
     "text": [
      "Prediction: 6\n"
     ]
    }
   ],
   "source": [
    "prediction = model.predict(image)\n",
    "print ( \"Prediction: {}\" .format(np.argmax(prediction)))"
   ]
  },
  {
   "cell_type": "code",
   "execution_count": 42,
   "id": "d3fbd05d",
   "metadata": {},
   "outputs": [
    {
     "data": {
      "image/png": "[encoded data removed]",
      "text/plain": [
       "<Figure size 432x288 with 1 Axes>"
      ]
     },
     "metadata": {
      "needs_background": "light"
     },
     "output_type": "display_data"
    }
   ],
   "source": [
    "plt.imshow(image[0])\n",
    "plt.title(\"Scanned Image (Input)\")\n",
    "plt.show()"
   ]
  },
  {
   "cell_type": "code",
   "execution_count": null,
   "id": "4d7f66a6",
   "metadata": {},
   "outputs": [],
   "source": []
  },
  {
   "cell_type": "code",
   "execution_count": null,
   "id": "8edb2735",
   "metadata": {},
   "outputs": [],
   "source": []
  },
  {
   "cell_type": "code",
   "execution_count": null,
   "id": "f938321d",
   "metadata": {},
   "outputs": [],
   "source": []
  },
  {
   "cell_type": "code",
   "execution_count": null,
   "id": "6dc24a8b",
   "metadata": {},
   "outputs": [],
   "source": []
  }
 ],
 "metadata": {
  "kernelspec": {
   "display_name": "Python 3",
   "language": "python",
   "name": "python3"
  },
  "language_info": {
   "codemirror_mode": {
    "name": "ipython",
    "version": 3
   },
   "file_extension": ".py",
   "mimetype": "text/x-python",
   "name": "python",
   "nbconvert_exporter": "python",
   "pygments_lexer": "ipython3",
   "version": "3.7.10"
  }
 },
 "nbformat": 4,
 "nbformat_minor": 5
}