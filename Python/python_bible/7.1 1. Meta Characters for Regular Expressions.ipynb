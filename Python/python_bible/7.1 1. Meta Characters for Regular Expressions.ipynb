{
 "cells": [
  {
   "cell_type": "markdown",
   "metadata": {},
   "source": [
    "## Meta Characters for Regular Expressions"
   ]
  },
  {
   "cell_type": "code",
   "execution_count": 40,
   "metadata": {},
   "outputs": [],
   "source": [
    "import re"
   ]
  },
  {
   "cell_type": "code",
   "execution_count": 41,
   "metadata": {},
   "outputs": [
    {
     "data": {
      "text/plain": [
       "<re.Match object; span=(0, 1), match='a'>"
      ]
     },
     "execution_count": 41,
     "metadata": {},
     "output_type": "execute_result"
    }
   ],
   "source": [
    "s=\"ac\"\n",
    "re.search('[abc]',s)"
   ]
  },
  {
   "cell_type": "code",
   "execution_count": 42,
   "metadata": {},
   "outputs": [
    {
     "data": {
      "text/plain": [
       "<re.Match object; span=(0, 1), match='a'>"
      ]
     },
     "execution_count": 42,
     "metadata": {},
     "output_type": "execute_result"
    }
   ],
   "source": [
    "s=\"ac\"\n",
    "re.search('.',s)"
   ]
  },
  {
   "cell_type": "code",
   "execution_count": 43,
   "metadata": {},
   "outputs": [
    {
     "name": "stdout",
     "output_type": "stream",
     "text": [
      "<re.Match object; span=(0, 1), match='m'>\n"
     ]
    }
   ],
   "source": [
    "s='mumbai'\n",
    "x = re.search('^m',s)\n",
    "print(x)"
   ]
  },
  {
   "cell_type": "code",
   "execution_count": 44,
   "metadata": {},
   "outputs": [
    {
     "name": "stdout",
     "output_type": "stream",
     "text": [
      "None\n",
      "<re.Match object; span=(5, 6), match='a'>\n"
     ]
    }
   ],
   "source": [
    "a = re.search('a$','Delhi')\n",
    "print(a)\n",
    "b = re.search('a$','Odissa')\n",
    "print(b)"
   ]
  },
  {
   "cell_type": "code",
   "execution_count": 45,
   "metadata": {},
   "outputs": [
    {
     "name": "stdout",
     "output_type": "stream",
     "text": [
      "<re.Match object; span=(0, 2), match='ma'>\n",
      "<re.Match object; span=(2, 4), match='ma'>\n"
     ]
    }
   ],
   "source": [
    "a = re.search('ma*','man')\n",
    "print(a)\n",
    "b = re.search('ma*','woman')\n",
    "print(b)"
   ]
  },
  {
   "cell_type": "code",
   "execution_count": 46,
   "metadata": {},
   "outputs": [
    {
     "name": "stdout",
     "output_type": "stream",
     "text": [
      "<re.Match object; span=(0, 2), match='ma'>\n",
      "<re.Match object; span=(2, 4), match='ma'>\n"
     ]
    }
   ],
   "source": [
    "a = re.search('ma+','man')\n",
    "print(a)\n",
    "b = re.search('ma+','woman')\n",
    "print(b)"
   ]
  },
  {
   "cell_type": "code",
   "execution_count": 47,
   "metadata": {},
   "outputs": [
    {
     "name": "stdout",
     "output_type": "stream",
     "text": [
      "None\n",
      "<re.Match object; span=(0, 2), match='aa'>\n"
     ]
    }
   ],
   "source": [
    "a=re.search('a{2}', 'abc')\n",
    "print(a)\n",
    "b = re.search('a{2}', 'aab')\n",
    "print(b)"
   ]
  },
  {
   "cell_type": "code",
   "execution_count": 48,
   "metadata": {},
   "outputs": [
    {
     "name": "stdout",
     "output_type": "stream",
     "text": [
      "<re.Match object; span=(1, 2), match='a'>\n",
      "None\n"
     ]
    }
   ],
   "source": [
    "a=re.search('a|b', 'mango')\n",
    "print(a)\n",
    "b = re.search('a|b', 'Pune')\n",
    "print(b)"
   ]
  },
  {
   "cell_type": "code",
   "execution_count": 49,
   "metadata": {},
   "outputs": [
    {
     "name": "stdout",
     "output_type": "stream",
     "text": [
      "<re.Match object; span=(0, 2), match='am'>\n",
      "None\n"
     ]
    }
   ],
   "source": [
    "a=re.search('(a)m', 'amm')\n",
    "print(a)\n",
    "b = re.search('(a)m', 'abm')\n",
    "print(b)"
   ]
  },
  {
   "cell_type": "code",
   "execution_count": 50,
   "metadata": {},
   "outputs": [
    {
     "name": "stdout",
     "output_type": "stream",
     "text": [
      "<re.Match object; span=(0, 2), match='$a'>\n"
     ]
    }
   ],
   "source": [
    "a=re.search('\\$a', '$abc')\n",
    "print(a)"
   ]
  },
  {
   "cell_type": "code",
   "execution_count": null,
   "metadata": {},
   "outputs": [],
   "source": []
  }
 ],
 "metadata": {
  "kernelspec": {
   "display_name": "Python 3",
   "language": "python",
   "name": "python3"
  },
  "language_info": {
   "codemirror_mode": {
    "name": "ipython",
    "version": 3
   },
   "file_extension": ".py",
   "mimetype": "text/x-python",
   "name": "python",
   "nbconvert_exporter": "python",
   "pygments_lexer": "ipython3",
   "version": "3.7.6"
  }
 },
 "nbformat": 4,
 "nbformat_minor": 4
}
{"threads":[{"position":0,"start":0,"end":2277,"connection":"open"},{"position":4553,"start":2278,"end":4553,"connection":"closed"}],"url":"https://att-b.udemycdn.com/2021-04-30_15-41-37-570caafff48ab85328fe077179828470/original.ipynb?secure=JMYmMsSipgDunGX4WwjH-w%3D%3D%2C1619942751&filename=1.+Meta+Characters+for+Regular+Expressions.ipynb","method":"GET","port":443,"downloadSize":4553,"headers":{"date":"Sun, 02 May 2021 06:10:02 GMT","content-type":"binary/octet-stream","content-length":"4553","connection":"close","x-amz-id-2":"DR4i1+bVesVMktOZH5a+OWd8NYyNy5FbcrcjbHDweiQ//3abtPGfbyWhJ3JJbSd1pKPrEWRhQLo=","x-amz-request-id":"83T68TF8YS022RT7","last-modified":"Fri, 30 Apr 2021 15:41:39 GMT","etag":"\"de3e8c27898376116359539490a51f25\"","x-amz-server-side-encryption":"AES256","x-amz-meta-qqfilename":"1.%20Meta%20Characters%20for%20Regular%20Expressions.ipynb","x-amz-version-id":"WCLSkdBWZliLZ75e4mD8oAbebvoU6a63","expires":"Wed, 12 May 2021 17:15:40 GMT","x-77-nzt":"A7k73AGsWSuxuZhBU9fKZO8TAQIAj/Q6gY1hle/rBQAA","x-77-cache":"HIT","cache-control":"max-age=31536000","content-disposition":"attachment; filename=\"1.+Meta+Characters+for+Regular+Expressions.ipynb\"","x-77-nzt-ray":"8wGQXYXvCgc=","x-cache-lb":"HIT, MISS","x-age-lb":"131347","server":"CDN77-Turbo","x-77-pop":"frankfurtDE","accept-ranges":"bytes"}}                                                                                                                                                                                                                                                                                                                                                                                                                                                                                                                                                                                                                                                                                                                                                                                                                                                                                                                                                                                                                                                                                                                                                                                                                                                                                                                                                                                                                                                                                                                                                                                                                                                                                                                                                                                                                                                                                                                                                                                                                                                                                                                                                                                                                                                                                                                                                                                                                                                                                                                                                                                                                                                                                                                                                                                                                                                                                                                                                                                                                                                                                                                                                                                                                                                                                                                                                                                                                                                                                                                                                                                                                                                                                                                                                                                                                                                                                                                                                                                                                                                                                                                                                                                                                                                                                                                                                                                                                                                                                                                                                                                                                                                                                                                                                                                                                                                                                                                                                                                                                                                                                                                                                                                                                                                                                                                                                                                                                                                                                                                                                                                                                                                                                                                                                                                                                                                                                                                                                                                                                                                                                                                                                                                                                                                                                                                                                                                                                                                                                                                                                                                                                                                                                                                                                                                                                                                                                                                                                                                                                                                                                                                                                                                                                                                                                                                                                                                                                                                                                                                                                                                                                                                                                                                                                                                                                                                                                                                                                                                                                                                                                                                                                                                                                                                                                                                                                                                                                                                                                                                                                                                                                                                                                                                                                                                                                                                                                                                                                                                                                                                                                                                                                                                                                                                                                    