{
 "cells": [
  {
   "cell_type": "code",
   "execution_count": 1,
   "id": "4c285c77",
   "metadata": {},
   "outputs": [],
   "source": [
    "import cv2 as cv\n",
    "import numpy as np\n",
    "import matplotlib.pyplot as plt\n",
    "from tensorflow.keras import datasets, layers, models"
   ]
  },
  {
   "cell_type": "markdown",
   "id": "906f6f61",
   "metadata": {},
   "source": [
    "### LOAD AND PREPARE IMAGE DATA"
   ]
  },
  {
   "cell_type": "code",
   "execution_count": null,
   "id": "425f55d4",
   "metadata": {},
   "outputs": [],
   "source": [
    "(train_images, train_labels),(test_images, test_labels) = datasets.cifar10.load_data()\n",
    "train_images, test_images = train_images/255.0, train_images/255.0"
   ]
  },
  {
   "cell_type": "code",
   "execution_count": null,
   "id": "73426313",
   "metadata": {},
   "outputs": [],
   "source": [
    "class_names = [ 'Plane' , 'Car' , 'Bird' , 'Cat' , 'Deer' , 'Dog' , 'Frog' , 'Horse' , 'Ship' , 'Truck' ]"
   ]
  },
  {
   "cell_type": "code",
   "execution_count": null,
   "id": "eb39f0d2",
   "metadata": {},
   "outputs": [],
   "source": [
    "for i in range(16):\n",
    "    plt.subplot(4, 4, i+1)\n",
    "    plt.xticks([])\n",
    "    plt.yticks([])\n",
    "    plt.imshow(train_images[i], cmap = plt.cm.binary)\n",
    "    plt.xlabel(class_names[train_labels[i][0]])\n",
    "plt.show()"
   ]
  },
  {
   "cell_type": "code",
   "execution_count": null,
   "id": "c154f3e7",
   "metadata": {},
   "outputs": [],
   "source": [
    "train_images = train_images[: 20000 ]\n",
    "train_labels = train_labels[: 20000 ]\n",
    "\n",
    "test_images = test_images[: 4000 ]\n",
    "test_labels = test_labels[: 4000 ]"
   ]
  },
  {
   "cell_type": "markdown",
   "id": "c81ffc29",
   "metadata": {},
   "source": [
    "### BUILDING NEURAL NETWORK"
   ]
  },
  {
   "cell_type": "code",
   "execution_count": 2,
   "id": "2d0539eb",
   "metadata": {},
   "outputs": [
    {
     "name": "stdout",
     "output_type": "stream",
     "text": [
      "Model: \"sequential\"\n",
      "_________________________________________________________________\n",
      "Layer (type)                 Output Shape              Param #   \n",
      "=================================================================\n",
      "conv2d (Conv2D)              (None, 30, 30, 32)        896       \n",
      "_________________________________________________________________\n",
      "max_pooling2d (MaxPooling2D) (None, 15, 15, 32)        0         \n",
      "_________________________________________________________________\n",
      "conv2d_1 (Conv2D)            (None, 13, 13, 64)        18496     \n",
      "_________________________________________________________________\n",
      "max_pooling2d_1 (MaxPooling2 (None, 6, 6, 64)          0         \n",
      "_________________________________________________________________\n",
      "conv2d_2 (Conv2D)            (None, 4, 4, 64)          36928     \n",
      "_________________________________________________________________\n",
      "flatten (Flatten)            (None, 1024)              0         \n",
      "_________________________________________________________________\n",
      "dense (Dense)                (None, 64)                65600     \n",
      "_________________________________________________________________\n",
      "dense_1 (Dense)              (None, 10)                650       \n",
      "=================================================================\n",
      "Total params: 122,570\n",
      "Trainable params: 122,570\n",
      "Non-trainable params: 0\n",
      "_________________________________________________________________\n"
     ]
    }
   ],
   "source": [
    "model = models.Sequential()\n",
    "model.add(layers.Conv2D(32, (3,3), activation = 'relu', input_shape=(32, 32, 3)))\n",
    "model.add(layers.MaxPooling2D((2, 2)))\n",
    "model.add(layers.Conv2D(64, (3,3), activation = 'relu', input_shape=(32, 32, 3)))\n",
    "model.add(layers.MaxPooling2D((2, 2)))\n",
    "model.add(layers.Conv2D(64, (3,3), activation = 'relu', input_shape=(32, 32, 3)))\n",
    "model.add(layers.Flatten())\n",
    "model.add(layers.Dense(64, activation='relu'))\n",
    "model.add(layers.Dense(10, activation='softmax'))\n",
    "model.compile(optimizer='adam', loss='sparse_categorical_crossentropy', metrics=['accuracy'])\n",
    "\n",
    "model.summary()"
   ]
  },
  {
   "cell_type": "markdown",
   "id": "34ee03d4",
   "metadata": {},
   "source": [
    "### TRAINING AND TESTING"
   ]
  },
  {
   "cell_type": "code",
   "execution_count": 3,
   "id": "d43b6350",
   "metadata": {},
   "outputs": [
    {
     "ename": "NameError",
     "evalue": "name 'train_imges' is not defined",
     "output_type": "error",
     "traceback": [
      "\u001b[1;31m---------------------------------------------------------------------------\u001b[0m",
      "\u001b[1;31mNameError\u001b[0m                                 Traceback (most recent call last)",
      "\u001b[1;32m<ipython-input-3-bff1decbd303>\u001b[0m in \u001b[0;36m<module>\u001b[1;34m\u001b[0m\n\u001b[1;32m----> 1\u001b[1;33m \u001b[0mmodel\u001b[0m\u001b[1;33m.\u001b[0m\u001b[0mfit\u001b[0m\u001b[1;33m(\u001b[0m\u001b[0mtrain_imges\u001b[0m\u001b[1;33m,\u001b[0m \u001b[0mtrain_labels\u001b[0m\u001b[1;33m,\u001b[0m \u001b[0mepochs\u001b[0m\u001b[1;33m=\u001b[0m\u001b[1;34m'10'\u001b[0m\u001b[1;33m,\u001b[0m \u001b[0mvalidation_data\u001b[0m\u001b[1;33m=\u001b[0m\u001b[1;33m(\u001b[0m\u001b[0mtest_images\u001b[0m\u001b[1;33m,\u001b[0m \u001b[0mtest_labels\u001b[0m\u001b[1;33m)\u001b[0m\u001b[1;33m)\u001b[0m\u001b[1;33m\u001b[0m\u001b[1;33m\u001b[0m\u001b[0m\n\u001b[0m",
      "\u001b[1;31mNameError\u001b[0m: name 'train_imges' is not defined"
     ]
    }
   ],
   "source": [
    "model.fit(train_images, train_labels, epochs='10', validation_data=(test_images, test_labels))"
   ]
  },
  {
   "cell_type": "code",
   "execution_count": null,
   "id": "8d116618",
   "metadata": {},
   "outputs": [],
   "source": [
    "model.save('image_recog.model')"
   ]
  },
  {
   "cell_type": "code",
   "execution_count": null,
   "id": "75ed7926",
   "metadata": {},
   "outputs": [],
   "source": [
    "test_loss, test_acc = model.evaluate(test_images, test_labels, verbose=2)"
   ]
  },
  {
   "cell_type": "markdown",
   "id": "d9f44fb0",
   "metadata": {},
   "source": [
    "### CLASSIFYING OWN IMAGES"
   ]
  },
  {
   "cell_type": "code",
   "execution_count": null,
   "id": "a0e8a028",
   "metadata": {},
   "outputs": [],
   "source": [
    "# Load the image\n",
    "img1 = cv.imread('car.jpg')\n",
    "img1 = cv.cvtColor(img1, cv.COLOR_BGR2RGB)\n",
    "img2 = cv.imread('hourse.jpg')\n",
    "img2 = cv.cvtColor(img2, cv.COLOR_BGR2RGB)\n",
    "plt.imshow(img1, cmap=plt.cm.binary)\n",
    "plt.show()\n",
    "plt.imshow(img2, cmap=plt.cm.binary)\n",
    "plt.show()"
   ]
  },
  {
   "cell_type": "code",
   "execution_count": null,
   "id": "5102dfbc",
   "metadata": {},
   "outputs": [],
   "source": [
    "pred = model.predict(np.array([img1])/255) # get the softmax result and normalized\n",
    "index = np.argmax(pred) # get the  index of the highest softmax activation value\n",
    "print(class_names[index])"
   ]
  },
  {
   "cell_type": "code",
   "execution_count": null,
   "id": "881c75e8",
   "metadata": {},
   "outputs": [],
   "source": []
  },
  {
   "cell_type": "code",
   "execution_count": null,
   "id": "9a4e372c",
   "metadata": {},
   "outputs": [],
   "source": []
  }
 ],
 "metadata": {
  "kernelspec": {
   "display_name": "Python 3",
   "language": "python",
   "name": "python3"
  },
  "language_info": {
   "codemirror_mode": {
    "name": "ipython",
    "version": 3
   },
   "file_extension": ".py",
   "mimetype": "text/x-python",
   "name": "python",
   "nbconvert_exporter": "python",
   "pygments_lexer": "ipython3",
   "version": "3.7.10"
  }
 },
 "nbformat": 4,
 "nbformat_minor": 5
}
