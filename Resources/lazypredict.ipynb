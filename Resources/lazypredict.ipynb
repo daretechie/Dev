{
 "cells": [
  {
   "cell_type": "code",
   "execution_count": 2,
   "id": "d719a542",
   "metadata": {},
   "outputs": [],
   "source": [
    "from tensorflow.keras.datasets import mnist"
   ]
  },
  {
   "cell_type": "code",
   "execution_count": 2,
   "id": "2bb2cf5d",
   "metadata": {},
   "outputs": [],
   "source": [
    "import numpy as np"
   ]
  },
  {
   "cell_type": "code",
   "execution_count": 3,
   "id": "86a16f4d",
   "metadata": {},
   "outputs": [
    {
     "name": "stderr",
     "output_type": "stream",
     "text": [
      "C:\\Users\\DHREY\\anaconda3\\lib\\site-packages\\sklearn\\utils\\deprecation.py:143: FutureWarning: The sklearn.utils.testing module is  deprecated in version 0.22 and will be removed in version 0.24. The corresponding classes / functions should instead be imported from sklearn.utils. Anything that cannot be imported from sklearn.utils is now part of the private API.\n",
      "  warnings.warn(message, FutureWarning)\n"
     ]
    }
   ],
   "source": [
    "from lazypredict.Supervised import LazyClassifier\n"
   ]
  },
  {
   "cell_type": "code",
   "execution_count": 2,
   "id": "a74ff599",
   "metadata": {},
   "outputs": [
    {
     "name": "stderr",
     "output_type": "stream",
     "text": [
      "100%|████████████████████████████████| 29/29 [00:04<00:00,  5.98it/s]\n"
     ]
    },
    {
     "name": "stdout",
     "output_type": "stream",
     "text": [
      "                               Accuracy  Balanced Accuracy  ROC AUC  F1 Score  \\\n",
      "Model                                                                           \n",
      "LinearSVC                          0.99               0.99     0.99      0.99   \n",
      "Perceptron                         0.99               0.98     0.98      0.99   \n",
      "LogisticRegression                 0.99               0.98     0.98      0.99   \n",
      "SVC                                0.98               0.98     0.98      0.98   \n",
      "XGBClassifier                      0.98               0.98     0.98      0.98   \n",
      "LabelPropagation                   0.98               0.97     0.97      0.98   \n",
      "LabelSpreading                     0.98               0.97     0.97      0.98   \n",
      "BaggingClassifier                  0.97               0.97     0.97      0.97   \n",
      "PassiveAggressiveClassifier        0.98               0.97     0.97      0.98   \n",
      "SGDClassifier                      0.98               0.97     0.97      0.98   \n",
      "RandomForestClassifier             0.97               0.97     0.97      0.97   \n",
      "CalibratedClassifierCV             0.98               0.97     0.97      0.98   \n",
      "QuadraticDiscriminantAnalysis      0.96               0.97     0.97      0.97   \n",
      "ExtraTreesClassifier               0.97               0.96     0.96      0.97   \n",
      "RidgeClassifierCV                  0.97               0.96     0.96      0.97   \n",
      "LGBMClassifier                     0.96               0.96     0.96      0.96   \n",
      "RidgeClassifier                    0.97               0.96     0.96      0.97   \n",
      "AdaBoostClassifier                 0.96               0.96     0.96      0.96   \n",
      "KNeighborsClassifier               0.96               0.96     0.96      0.96   \n",
      "BernoulliNB                        0.95               0.95     0.95      0.95   \n",
      "LinearDiscriminantAnalysis         0.96               0.95     0.95      0.96   \n",
      "GaussianNB                         0.95               0.95     0.95      0.95   \n",
      "NuSVC                              0.95               0.94     0.94      0.95   \n",
      "ExtraTreeClassifier                0.94               0.93     0.93      0.94   \n",
      "NearestCentroid                    0.95               0.93     0.93      0.95   \n",
      "DecisionTreeClassifier             0.93               0.93     0.93      0.93   \n",
      "DummyClassifier                    0.53               0.50     0.50      0.53   \n",
      "\n",
      "                               Time Taken  \n",
      "Model                                      \n",
      "LinearSVC                            0.04  \n",
      "Perceptron                           0.02  \n",
      "LogisticRegression                   0.30  \n",
      "SVC                                  0.03  \n",
      "XGBClassifier                        0.59  \n",
      "LabelPropagation                     0.12  \n",
      "LabelSpreading                       0.05  \n",
      "BaggingClassifier                    0.17  \n",
      "PassiveAggressiveClassifier          0.13  \n",
      "SGDClassifier                        0.02  \n",
      "RandomForestClassifier               0.27  \n",
      "CalibratedClassifierCV               0.22  \n",
      "QuadraticDiscriminantAnalysis        0.16  \n",
      "ExtraTreesClassifier                 0.32  \n",
      "RidgeClassifierCV                    0.05  \n",
      "LGBMClassifier                       0.20  \n",
      "RidgeClassifier                      0.26  \n",
      "AdaBoostClassifier                   0.87  \n",
      "KNeighborsClassifier                 0.25  \n",
      "BernoulliNB                          0.13  \n",
      "LinearDiscriminantAnalysis           0.19  \n",
      "GaussianNB                           0.03  \n",
      "NuSVC                                0.06  \n",
      "ExtraTreeClassifier                  0.08  \n",
      "NearestCentroid                      0.04  \n",
      "DecisionTreeClassifier               0.03  \n",
      "DummyClassifier                      0.11  \n"
     ]
    }
   ],
   "source": [
    "from lazypredict.Supervised import LazyClassifier\n",
    "from sklearn.datasets import load_breast_cancer\n",
    "from sklearn.model_selection import train_test_split\n",
    "\n",
    "data = load_breast_cancer()\n",
    "X = data.data\n",
    "y= data.target\n",
    "\n",
    "X_train, X_test, y_train, y_test = train_test_split(X, y,test_size=.5,random_state =123)\n",
    "\n",
    "clf = LazyClassifier(verbose=0,ignore_warnings=True, custom_metric=None)\n",
    "models,predictions = clf.fit(X_train, X_test, y_train, y_test)\n",
    "\n",
    "print(models)"
   ]
  },
  {
   "cell_type": "code",
   "execution_count": 4,
   "id": "1d02694a",
   "metadata": {
    "scrolled": true
   },
   "outputs": [
    {
     "name": "stderr",
     "output_type": "stream",
     "text": [
      "100%|████████████████████████████████| 42/42 [00:05<00:00,  7.02it/s]\n"
     ]
    },
    {
     "name": "stdout",
     "output_type": "stream",
     "text": [
      "                               Adjusted R-Squared  R-Squared  RMSE  Time Taken\n",
      "Model                                                                         \n",
      "SVR                                          0.83       0.88  2.62        0.02\n",
      "BaggingRegressor                             0.83       0.88  2.63        0.09\n",
      "NuSVR                                        0.82       0.86  2.76        0.02\n",
      "RandomForestRegressor                        0.81       0.86  2.78        0.35\n",
      "XGBRegressor                                 0.81       0.86  2.79        0.10\n",
      "GradientBoostingRegressor                    0.81       0.86  2.84        0.16\n",
      "ExtraTreesRegressor                          0.79       0.84  2.98        0.38\n",
      "AdaBoostRegressor                            0.78       0.83  3.04        0.25\n",
      "HistGradientBoostingRegressor                0.77       0.83  3.06        0.96\n",
      "PoissonRegressor                             0.77       0.83  3.11        0.04\n",
      "LGBMRegressor                                0.77       0.83  3.11        0.12\n",
      "KNeighborsRegressor                          0.77       0.83  3.12        0.03\n",
      "DecisionTreeRegressor                        0.65       0.74  3.79        0.03\n",
      "MLPRegressor                                 0.65       0.74  3.80        0.99\n",
      "HuberRegressor                               0.64       0.74  3.84        0.04\n",
      "GammaRegressor                               0.64       0.73  3.88        0.01\n",
      "LinearSVR                                    0.62       0.72  3.96        0.05\n",
      "RidgeCV                                      0.62       0.72  3.97        0.07\n",
      "BayesianRidge                                0.62       0.72  3.97        0.02\n",
      "Ridge                                        0.62       0.72  3.97        0.08\n",
      "TransformedTargetRegressor                   0.62       0.72  3.97        0.02\n",
      "LinearRegression                             0.62       0.72  3.97        0.11\n",
      "ElasticNetCV                                 0.62       0.72  3.98        0.16\n",
      "LassoCV                                      0.62       0.72  3.98        0.14\n",
      "LassoLarsIC                                  0.62       0.72  3.98        0.02\n",
      "LassoLarsCV                                  0.62       0.72  3.98        0.06\n",
      "Lars                                         0.61       0.72  3.99        0.26\n",
      "LarsCV                                       0.61       0.71  4.02        0.15\n",
      "SGDRegressor                                 0.60       0.70  4.07        0.02\n",
      "TweedieRegressor                             0.59       0.70  4.12        0.01\n",
      "GeneralizedLinearRegressor                   0.59       0.70  4.12        0.04\n",
      "ElasticNet                                   0.58       0.69  4.16        0.16\n",
      "Lasso                                        0.54       0.66  4.35        0.08\n",
      "RANSACRegressor                              0.53       0.65  4.41        0.14\n",
      "OrthogonalMatchingPursuitCV                  0.45       0.59  4.78        0.07\n",
      "PassiveAggressiveRegressor                   0.37       0.54  5.09        0.01\n",
      "GaussianProcessRegressor                     0.23       0.43  5.65        0.51\n",
      "OrthogonalMatchingPursuit                    0.16       0.38  5.89        0.02\n",
      "ExtraTreeRegressor                           0.08       0.32  6.17        0.02\n",
      "DummyRegressor                              -0.38      -0.02  7.56        0.01\n",
      "LassoLars                                   -0.38      -0.02  7.56        0.03\n",
      "KernelRidge                                -11.50      -8.25 22.74        0.07\n"
     ]
    }
   ],
   "source": [
    "from lazypredict.Supervised import LazyRegressor\n",
    "from sklearn import datasets\n",
    "from sklearn.utils import shuffle\n",
    "import numpy as np\n",
    "\n",
    "boston = datasets.load_boston()\n",
    "X, y = shuffle(boston.data, boston.target, random_state=13)\n",
    "X = X.astype(np.float32)\n",
    "\n",
    "offset = int(X.shape[0] * 0.9)\n",
    "\n",
    "X_train, y_train = X[:offset], y[:offset]\n",
    "X_test, y_test = X[offset:], y[offset:]\n",
    "\n",
    "reg = LazyRegressor(verbose=0, ignore_warnings=False, custom_metric=None)\n",
    "models, predictions = reg.fit(X_train, X_test, y_train, y_test)\n",
    "\n",
    "print(models)"
   ]
  },
  {
   "cell_type": "code",
   "execution_count": null,
   "id": "27f7ae51",
   "metadata": {},
   "outputs": [],
   "source": [
    "mport evalml\n",
    "x=x.drop(labels='Loan_ID', axis=1)\n",
    "\n",
    "\n",
    "\n",
    "\n",
    "x_train, x_test, y_train, y_test = evalml.preprocessing.split_data(x, y, problem_type='binary')\n",
    "\n",
    "x_train.head()\n",
    "\n",
    "from evalml.automl import AutoMLSearch\n",
    "\n",
    "automl = AutoMLSearch(X_train=x_train, y_train=y_train, problem_type='binary')\n",
    "automl.search()\n",
    "\n",
    "automl.rankings\n",
    "\n",
    "best_pipeline=automl.best_pipeline\n",
    "\n",
    "automl.describe_pipeline(automl.rankings.iloc[0]['id'])\n",
    "\n",
    "\n",
    "automl.best_pipeline.score(x_test, y_test, objectives=['accuracy binary', 'recall', 'precision',  'auc'])\n",
    "\n",
    "evalml.objectives.get_all_objective_names()\n",
    "\n"
   ]
  },
  {
   "cell_type": "code",
   "execution_count": null,
   "id": "85a4557c",
   "metadata": {},
   "outputs": [],
   "source": []
  },
  {
   "cell_type": "code",
   "execution_count": null,
   "id": "f143234e",
   "metadata": {},
   "outputs": [],
   "source": []
  },
  {
   "cell_type": "code",
   "execution_count": null,
   "id": "c24bcd53",
   "metadata": {},
   "outputs": [],
   "source": [
    "seed = 10\n",
    "scoring = 'accuracy'\n",
    "\n",
    "models_list = []\n",
    "\n",
    "models_list.append(('LR', LogisticRegression()))\n",
    "models_list.append(('LDA', LinearDiscriminantAnalysis()))\n",
    "models_list.append(('KNN', KNeighborsClassifier()))\n",
    "models_list.append(('CART', DecisionTreeClassifier()))\n",
    "models_list.append(('SVM', SVC()))\n",
    "models_list.append(('RF', RandomForestClassifier()))\n",
    "\n",
    "results = []\n",
    "names = []\n",
    "\n",
    "for name, model in models_list:\n",
    "    kfold = model_selection.KFold(n_splits=10, random_sttae=seed)\n",
    "    cv_results = model_selection.cross_val_score(model, x_train, y_train, cv=kfold, scoring=scoring)\n",
    "    results.append(cv_results)\n",
    "    names.append(name)\n",
    "    msg = \"%s: %f (%f)\" % (name, cv_ results.mean(), cv_results.std())"
   ]
  },
  {
   "cell_type": "code",
   "execution_count": null,
   "id": "1260853a",
   "metadata": {},
   "outputs": [],
   "source": [
    "fig = plt.figure()\n",
    "fig.suptitle(\"\")\n",
    "ax = fig.add_subplot(111)\n",
    "plt.boxplot(results)\n",
    "ax.set_xticklabels(names)\n",
    "plt.show()"
   ]
  },
  {
   "cell_type": "code",
   "execution_count": null,
   "id": "a0a24db3",
   "metadata": {},
   "outputs": [],
   "source": [
    "def optimizing_model(model, X: int, Y: int, nrange: int):\n",
    "    best_accuracy = 0\n",
    "    for x in range(nrange):\n",
    "        x_train, x_test, Y_train, Y_test = train_test_split(X, Y, test_size = 0.2)\n",
    "        \n",
    "        model = model\n",
    "        model.fit(x_train, Y_train)\n",
    "        \n",
    "        accuracy = model.score(x_test, Y_test)\n",
    "        \n",
    "        if accuracy > best_accuracy:\n",
    "            best_accuracy = accuracy\n",
    "            print(\"Best Accuracy: \", accuracy)\n",
    "            \n",
    "            # You can make a new directory usin os.mkdir \n",
    "            with open('modeldir/model.pickle', 'wb') as file:\n",
    "                pickle.dump(model, file)"
   ]
  },
  {
   "cell_type": "markdown",
   "id": "a1ae8a0f",
   "metadata": {},
   "source": [
    "## SERIALIZATION CONCEPT"
   ]
  },
  {
   "cell_type": "code",
   "execution_count": null,
   "id": "e6e26250",
   "metadata": {},
   "outputs": [],
   "source": []
  },
  {
   "cell_type": "code",
   "execution_count": null,
   "id": "264c17cd",
   "metadata": {},
   "outputs": [],
   "source": []
  },
  {
   "cell_type": "code",
   "execution_count": null,
   "id": "ce3946b0",
   "metadata": {},
   "outputs": [],
   "source": []
  }
 ],
 "metadata": {
  "kernelspec": {
   "display_name": "Python 3",
   "language": "python",
   "name": "python3"
  },
  "language_info": {
   "codemirror_mode": {
    "name": "ipython",
    "version": 3
   },
   "file_extension": ".py",
   "mimetype": "text/x-python",
   "name": "python",
   "nbconvert_exporter": "python",
   "pygments_lexer": "ipython3",
   "version": "3.7.10"
  }
 },
 "nbformat": 4,
 "nbformat_minor": 5
}
